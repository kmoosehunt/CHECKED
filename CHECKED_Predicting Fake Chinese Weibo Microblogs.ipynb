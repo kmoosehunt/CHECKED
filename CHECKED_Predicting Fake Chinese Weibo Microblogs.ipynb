{
 "cells": [
  {
   "cell_type": "markdown",
   "id": "7ff77abe",
   "metadata": {},
   "source": [
    "<header>\n",
    "    <figure>\n",
    "        <img src=\"https://raw.githubusercontent.com/kmoosehunt/CHECKED/master/GitHub_Blog_Header_Image.png\" alt=\"Can we predict which Weibo microblog posts on COVID-19 are 'fake'?\" width=\"800\"/>\n",
    "    </figure>\n",
    "</header>"
   ]
  },
  {
   "cell_type": "markdown",
   "id": "215d69c1",
   "metadata": {},
   "source": [
    "## Overview\n",
    "Social media as a primary news source increased dramatically during the COVID19 pandemic relative to prior years. However, growing evidence suggests social media platforms are also at the crux of misinformation and disinformation about the COVID19 pandemic. While research has been conducted on popular US-based social media platforms about fake COVID19 posts, little research has been done on China's most popular social media platform, Weibo. What can policymakers and technology administrators do to stop the spread of misinformation and disinformation about COVID19? One method is deploying machine learning models to predict which posts are fake.\n",
    "\n",
    "A team from Syracuse University researched fake Weibo microblogs about COVID19. Then, the team published their source code and datasets on GitHub for further research. This project adapated their code to answer three research questions.\n",
    "\n",
    "### This project aims to explore three research questions:\n",
    "1. How are fake and real COVID19 microblogs' in Chinese different on Weibo?\n",
    "2. For fake COVID19 microblogs, which Chinese words are more or less likely to have a greater reach (e.g., # of likes and shares) on Weibo?\n",
    "3. Are the original researchers' predictive models reproducable?\n",
    "\n",
    "### Summary of Findings and Implications\n",
    "Disaggregating fake data surfaced surprising differences from the total dataset, which aggregated real and fake microblogs. For example, the distribution of keywords and reach was different for fake versus real microblogs. Further, a smaller subset of fake microblogs had a higher reach. Higher reach fake microblogs could be prioritized for administrative review if we can predict 1. which microblogs are fake and 2. which fake microblogs have a greater liklihood of a higher reach to spread disinformation and misinformation.\n",
    "\n",
    "The original researchers used 5 neural-network-based machine learning methods: FastText, TextCNN, TextRNN, Attention-based TextRNN (Att-TextRNN), and Transformer. This study replicated the Macro F1 scores for each model, validating these models likely predict fake news with some accuracy. However, the project also recommends running predictive models with additional Chinese data and a new comparison dataset from a US-based social media platform."
   ]
  },
  {
   "cell_type": "markdown",
   "id": "0cf6924b",
   "metadata": {},
   "source": [
    "## Analysis\n",
    "### How are fake and real COVID19 microblogs' in Chinese different on Weibo?\n",
    "After replicating the original exploratory data analysis, this project disggregated the total news dataset by real and fake microblogs. The project surfaced peaks and valleys in keywords' frequencies when fake COVID19 microblogs were disaggregated from the total dataset. This finding implies additional research to better understand the significance of differences real and fake microblogs keywords and other terms. For example, we could conduct further natural language processing (NLP) analysis to learn if there are keywords more frequent in fake versus real microblogs.\n",
    "\n",
    "<table border=\"0\">\n",
    " <tr>\n",
    "    <td><b style=\"font-size:10px\">Image 1: Distribution of Selected Keywords in All Microblogs (n = 2,104)</b></td>\n",
    "    <td><b style=\"font-size:10px\">Image 2: Distribution of Selected Keywords in Fake Collected Microblogs (n = 344)</b></td>\n",
    " </tr>\n",
    " <tr>\n",
    "    <td><img src=\"https://raw.githubusercontent.com/kmoosehunt/CHECKED/master/Total_Keywords_numOfMicroblogs.png\" width=\"500\"/></td>\n",
    "    <td><img src=\"https://raw.githubusercontent.com/kmoosehunt/CHECKED/master/Fake_Keywords_numOfMicroblogs.png\" width=\"500\"/></td>\n",
    " </tr>\n",
    "</table>"
   ]
  },
  {
   "cell_type": "markdown",
   "id": "ce0702ab",
   "metadata": {},
   "source": [
    "### For fake COVID19 microblogs, which Chinese words are more or less likely to have a greater reach (e.g., # of likes and shares) on Weibo?\n",
    "\n",
    "#### What do we mean by reach, and how are microblogs' reach distributed?\n",
    "Overall, the aggregated data on microblogs have a power-law-like distribution. This means most microblogs have a smaller reach (e.g. likes, shares, comments) and there is a consistently declining number of microblogs have greater reach. However, disaggregating fake microblogs did not result in the same reach distribution - there are a small number of inconsistent outliers with much greater reach.\n",
    "\n",
    "<table border=\"0\">\n",
    " <tr>\n",
    "    <td><b style=\"font-size:10px\">Image 3: Distribution of Comments in CHECKED Fake Microblog Data</b></td>\n",
    "    <td><b style=\"font-size:10px\">Image 4: Distribution of Likes in CHECKED Fake Microblog Data</b></td>\n",
    "    <td><b style=\"font-size:10px\">Image 5: Distribution of Reposts in CHECKED Fake Microblog Data</b></td>\n",
    "     </tr>\n",
    " <tr>\n",
    "     <td><img src=\"https://raw.githubusercontent.com/kmoosehunt/CHECKED/master/Fake_numOfComment_numOfWB.png\" width=\"500\"/></td>\n",
    "     <td><img src=\"https://raw.githubusercontent.com/kmoosehunt/CHECKED/master/Fake_numOfLike_numOfWB.png\" width=\"500\"/></td>\n",
    "     <td><img src=\"https://raw.githubusercontent.com/kmoosehunt/CHECKED/master/Fake_numOfRepost_numOfWB.png\" width=\"450\"/></td>\n",
    "      </tr>\n",
    "</table>"
   ]
  },
  {
   "cell_type": "markdown",
   "id": "41daf538",
   "metadata": {},
   "source": [
    "#### Which microblogs have a greater reach, and what are their keywords?\n",
    "This project divided fake microblog's reach into low and high. High reach fake microblogs represent the 75% quartile with over 36 comments, 14 reposts, and/or 128 likes. High reach fake microblogs surfaced additional peaks and valleys in keywords' frequencies. Additional research is recommended to better understand how keywords with higher reach are influenced by time of publication, non-keyword NLP analysis, and other key variables.\n",
    "\n",
    "<table border=\"0\">\n",
    " <tr>\n",
    "    <td><b style=\"font-size:10px\">Table 1: Statistics of CHECKED \"Fake\" Microblog Data</b></td>\n",
    "     <td><b style=\"font-size:10px\">Image 6: Distribution of Selected Keywords in Highest Reach \"Fake\" Microblogs (n = 112)</b></td>\n",
    "     </tr>\n",
    " <tr>\n",
    "    <td><img src=\"https://raw.githubusercontent.com/kmoosehunt/CHECKED/master/Fake_Summary_Table.png\" width=\"500\"/></td>\n",
    "     <td><img src=\"https://raw.githubusercontent.com/kmoosehunt/CHECKED/master/Fake_Top_Impact_Keywords_numOfMicroblogs.png\" width=\"500\"/></td>\n",
    "      </tr>\n",
    "</table>"
   ]
  },
  {
   "attachments": {
    "Benchmark_Results_Summary_Table.png": {
     "image/png": "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"
    }
   },
   "cell_type": "markdown",
   "id": "ffde4ed4",
   "metadata": {},
   "source": [
    "### Are the original neural-network machine learning results reproducable?\n",
    "Researchers originally used 5 neural-network-based methods with FastText, TextCNN, TextRNN, Attention-based TextRNN (Att-TextRNN), and Transformer. This paper used the original research parameters to split data by posting date for training, validation, and testing with a 70%:10%:20% split. This project reproduced benchmark results for each model below to test their predictive power with Macro F1 scores. Macro F1 scores were used to evaluate the number of times the model correctly predicted fake news. In short, Macro F1 scores close to 1 can be interpreted as correctly predicting fake news. Given consistency in Macro F1 scores from the original and reproduced projects, this project recommends running models with additional Chinese data and a new US-based social media comparison dataset to test the models' predictive power with additional data.\n",
    "\n",
    "\n",
    "#### Table 2: Benchmark Results using CHECKED data to Detect Fake Microblogs\n",
    "![Benchmark_Results_Summary_Table.png](attachment:Benchmark_Results_Summary_Table.png)"
   ]
  },
  {
   "cell_type": "markdown",
   "id": "338aa8c1",
   "metadata": {},
   "source": [
    "### Troubleshooting Code\n",
    "Adapting the original code to run in the computer's environment required some troubleshooting. Two examples are outlined below .\n",
    "\n",
    "#### Enabling Chinese Text Segmentation\n",
    "Analysis code produced an error, \"[ModuleNotFoundError: No module named 'jieba'], even after installing the jieba package."
   ]
  },
  {
   "cell_type": "code",
   "execution_count": 1,
   "id": "d3c8397f",
   "metadata": {},
   "outputs": [],
   "source": [
    "# install the conda package for jieba per https://stackoverflow.com/questions/57887947/python-3-cannot-find-a-module\n",
    "#import sys\n",
    "#!conda install -c conda-forge jieba"
   ]
  },
  {
   "cell_type": "markdown",
   "id": "a42780bf",
   "metadata": {},
   "source": [
    "#### Chinese Font Updates\n",
    "Most operating systems come with standard Chinese fonts. However, Chinese text segmentation for NLP models used in this project required MicrosoftYaHei font style, which should not be assumed as enabled in the local Matplotlib environment. The project developed a sanity test to confirm font availability. I used several tutorials to construct the code, including https://stackoverflow.com/questions/42097053/matplotlib-cannot-find-basic-fonts."
   ]
  },
  {
   "cell_type": "code",
   "execution_count": 2,
   "id": "f882381f",
   "metadata": {},
   "outputs": [],
   "source": [
    "#import matplotlib.font_manager\n",
    "\n",
    "#sanity tests to ensure Chinese char enabeled font is rebuilt into the Matplotlib Cache, but code will need to be modified to insert the correct file path.\n",
    "#matplotlib.font_manager.FontManager().addfont(path='<INSERT FILE PATH TO ANNOCONDA INSTANCE\\\\Lib\\\\site-packages\\\\matplotlib\\\\mpl-data\\\\fonts\\\\ttf\\\\MicrosoftYaHei.ttf')\n",
    "#[f for f in matplotlib.font_manager.fontManager.ttflist if 'MicrosoftYaHei' in f.name]\n",
    "#matplotlib.font_manager.findfont('Microsoft YaHei', fontext='ttf', rebuild_if_missing = True)"
   ]
  },
  {
   "cell_type": "markdown",
   "id": "8a02dacb",
   "metadata": {},
   "source": [
    "## Conclusions\n",
    "The TextCNN, Attention-based TextRNN, FastText, and Transformer predictive power (i.e. Macro F1 scores) implies these models can predict fake microblogs with some accuracy. However, a larger fake COVID19 data set is needed to understand if there is a statistical difference between real and fake microblogs' impact (e.g. # of comments, likes, and reposts) and addintional NLP analysis on non-keywords. Specifically, explore high reach fake microblogs and identify a comparison dataset to continue refining prediction models."
   ]
  },
  {
   "cell_type": "markdown",
   "id": "4c866405",
   "metadata": {},
   "source": [
    "## Reference"
   ]
  },
  {
   "cell_type": "markdown",
   "id": "012e7a35",
   "metadata": {},
   "source"
    "Article"
    "{yang2020checked,\n",
    "  title={CHECKED: Chinese COVID-19 Fake News Dataset},\n",
    "  author={Yang, Chen and Zhou, Xinyi and Zafarani, Reza},\n",
    "  journal={Social Network Analysis and Mining (SNAM)},\n",
    "  doi={10.1007/s13278-021-00766-8}\n",
    "  year={2021}\n",
    "}"
   ]
  }
 ],
 "metadata": {
  "kernelspec": {
   "display_name": "Python 3 (ipykernel)",
   "language": "python",
   "name": "python3"
  },
  "language_info": {
   "codemirror_mode": {
    "name": "ipython",
    "version": 3
   },
   "file_extension": ".py",
   "mimetype": "text/x-python",
   "name": "python",
   "nbconvert_exporter": "python",
   "pygments_lexer": "ipython3",
   "version": "3.9.12"
  }
 },
 "nbformat": 4,
 "nbformat_minor": 5
}
